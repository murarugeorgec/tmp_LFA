{
  "nbformat": 4,
  "nbformat_minor": 0,
  "metadata": {
    "celltoolbar": "Edit Metadata",
    "kernelspec": {
      "display_name": "Python 3",
      "language": "python",
      "name": "python3"
    },
    "language_info": {
      "codemirror_mode": {
        "name": "ipython",
        "version": 3
      },
      "file_extension": ".py",
      "mimetype": "text/x-python",
      "name": "python",
      "nbconvert_exporter": "python",
      "pygments_lexer": "ipython3",
      "version": "3.6.8"
    },
    "colab": {
      "name": "Copy of Lab1.ipynb",
      "provenance": [],
      "collapsed_sections": []
    }
  },
  "cells": [
    {
      "cell_type": "markdown",
      "metadata": {
        "id": "9HltccYcEmJ9",
        "colab_type": "text"
      },
      "source": [
        "# Laborator 0: Pattern matching - probleme si solutii\n",
        "\n",
        "## Curs: Limbaje formale si automate\n",
        "## Autori: Muraru George si Pavel Cristian\n",
        "\n",
        "# Partea 0: Recap lab 0\n",
        "\n",
        "In laboratorul 0 am discutat despre o serie de notiuni introductive pentru limbajul Python. Inainte de inceperea efectiva a laboratorului 1, ar trebui sa puteti raspunde la urmatoarele intrebari\n",
        "\n",
        "1. Cum declar si definesc o functie?\n",
        "2. Cum pot sa declar, sa parcurg si sa inserez intr-o lista?\n",
        "3. Cum declar un string si cum pot sa adaug caractere la acesta?\n",
        "4. Ce este un dictionar?\n",
        "\n",
        "# Partea 1: Problema\n",
        "\n",
        "In laboratorul 1 vom porni de la problema gasirii unui substring intr-un string - pattern matching. Aceasta este prima problema care apare atunci cand dorim sa parsam un text si, pentru a putea ajunge la solutii mai complexe de analiza a limbajelor, trebuie parcurse mai multe solutii cu avantajele si dezavantajele fiecareia.\n",
        "\n",
        "Asadar astazi ne propunem sa rezolvam urmatoarea problema:\n",
        "\n",
        "### Enuntul problemei:\n",
        "\n",
        "  Scrieti o functie care primeste 2 stringuri **text** si **pattern**, si verifica daca **pattern** este un substring al lui **text**.\n",
        "    \n",
        "  Exemplu:\n",
        "    text=\"scaunmasamasina\"\n",
        "    pattern=\"masina\"\n",
        "        \n",
        "    Output: true    \n",
        "        \n",
        "# Partea 2: Solutii\n",
        "\n",
        "## Partea 2.1: Solutia bruta\n",
        "\n",
        "Trebuie sa pornim de undeva. Prima solutie este cea bruta pe care va invit sa o implementati mai jos:"
      ]
    },
    {
      "cell_type": "code",
      "metadata": {
        "id": "57a7v5oyEmJ_",
        "colab_type": "code",
        "colab": {
          "base_uri": "https://localhost:8080/",
          "height": 34
        },
        "outputId": "4e73ecba-7bbd-465a-e46d-e81d8becc0d7"
      },
      "source": [
        "# Prima solutie\n",
        "\n",
        "def is_substring_brute_force(text, pattern):\n",
        "    \"\"\"\n",
        "      :param text: Stringul in care trebuie cautat.\n",
        "      :param pattern: Substringul care trebuie cautat.\n",
        "      :return: True daca pattern este substring a lui text, altfel False\n",
        "    \"\"\"\n",
        "    ## any idea is a good idea\n",
        "    pass\n",
        "    \n",
        "\n",
        "print(is_substring_brute_force(\"scaunmasamasina\", \"masina\"));"
      ],
      "execution_count": 1,
      "outputs": [
        {
          "output_type": "stream",
          "text": [
            "None\n"
          ],
          "name": "stdout"
        }
      ]
    },
    {
      "cell_type": "code",
      "metadata": {
        "tags": [
          "hide_input"
        ],
        "id": "JHa0lpo7EmKC",
        "colab_type": "code",
        "colab": {
          "base_uri": "https://localhost:8080/",
          "height": 51
        },
        "outputId": "31e00520-ada6-490a-8e68-d30ca08492d0"
      },
      "source": [
        "\n",
        "def __is_substring_brute_force__(text, pattern):\n",
        "    for i in range(len(text) - len(pattern) + 1):\n",
        "        is_substring = True\n",
        "        for j in range(len(pattern)):\n",
        "            if text[i + j] != pattern[j]:\n",
        "                is_substring = False\n",
        "        if is_substring is True:\n",
        "            return is_substring    \n",
        "    return False\n",
        "\n",
        "text1 = \"scaunmasamasina\"\n",
        "pattern1 = \"masina\"\n",
        "\n",
        "print(\"{0} is substring of {1}: {2}\" \\\n",
        "      .format(pattern1, text1, __is_substring_brute_force__(text1, pattern1)))\n",
        "\n",
        "text2 = \"anaaremeresipere\"\n",
        "pattern2 = \"anamere\"\n",
        "print(\"{0} is substring of {1}: {2}\" \\\n",
        "      .format(pattern2, text2, __is_substring_brute_force__(text2, pattern2)))"
      ],
      "execution_count": 18,
      "outputs": [
        {
          "output_type": "stream",
          "text": [
            "masina is substring of scaunmasamasina: True\n",
            "anamere is substring of anaaremeresipere: False\n"
          ],
          "name": "stdout"
        }
      ]
    },
    {
      "cell_type": "markdown",
      "metadata": {
        "id": "KuKakPc8Oi0W",
        "colab_type": "text"
      },
      "source": [
        "### Teste"
      ]
    },
    {
      "cell_type": "code",
      "metadata": {
        "id": "Tkjz3o_kOsuJ",
        "colab_type": "code",
        "colab": {}
      },
      "source": [
        "assert (__is_substring_brute_force__(\"scaunmasamasina\", \"masina\") == True)\n",
        "assert (__is_substring_brute_force__(\"aaabbcccddd\", \"aaacc\") == False)\n",
        "assert (__is_substring_brute_force__(\"a3b5c3\", \"b5c\") == True)\n",
        "assert (__is_substring_brute_force__(\"LFAisCool\", \"ool\") == True)"
      ],
      "execution_count": 0,
      "outputs": []
    },
    {
      "cell_type": "markdown",
      "metadata": {
        "id": "fr_NRQPiEmKF",
        "colab_type": "text"
      },
      "source": [
        "\n",
        "## Partea 2.2: O imbunatatire\n",
        "\n",
        "Pornind de la solutia bruta, putem observa urmatoarele lucruri:\n",
        "  * La un mismatch, continuam parcurgerea pana la finalul stringului **pattern**\n",
        "  * In caz de mismatch pornim de la pozitia 0 din **pattern** si incercam din nou sa facem match\n",
        "  * Nu ne folosim deloc de informatia legata de caracterul care a produs mismatch, si locul in care s-a produs\n",
        "\n",
        "Acum ne putem gandi la o imbunatatire care rezolva aceste probleme.\n",
        "\n",
        "Prima data, ne dam seama ca, odata intalnit un mismatch, nu mai e nevoie sa continuam cu parcurgerea celor doua stringuri, ci putem sa incercam un nou match.\n",
        "\n",
        "De asemenea, o intrebare buna ar fi: **Cum am putea sa ne folosim de caracterul si locul in care s-a produs mismatch pentru a imbunatati performanta algoritmului?**\n",
        "\n",
        "Vom porni de la urmatorul caz:\n",
        "\n",
        "    text = \"acddbcdebacdbqwr\"\n",
        "    pattern = \"acdb\"\n",
        "    \n",
        "Parcurgem algoritmul brut pas cu pas:\n",
        "\n",
        "    i = 0 => j = 0 => 'a' = 'a'\n",
        "             j = 1 => 'b' = 'b'\n",
        "             j = 2 => 'c' = 'c'\n",
        "             j = 3 => 'd' != 'b'MISMATCH\n",
        "             ...\n",
        "    i = 1 => j = 0 => 'b' != 'a' MISMATCH\n",
        "             ...\n",
        "    i = 2 => j = 0 => 'c' != 'a' MISMATCH\n",
        "             ...\n",
        "    i = 3 => j = 0 => 'd' != 'a' MISMATCH\n",
        "             ...\n",
        "    ...\n",
        "\n",
        "    i = 9 => j = 0 => 'a' = 'a'\n",
        "             j = 1 => 'c' = 'c'\n",
        "             j = 2 => 'd' = 'd'\n",
        "             j = 3 => 'b' = 'b' MATCH\n",
        "            \n",
        "Observam ca pentru cazul in care **i** este egal cu 1, 2 si 3 cautarea a fost facuta inutil.\n",
        "\n",
        "Stim ca in stringul **text** niciun caracter de pe pozitiile 1, 2 si 3 **nu** este 'a', informatie obtinuta cand a fost facut matching pentru i = 0.\n",
        "\n",
        "Deci avand informatia **La pozitia 3 s-a facut mismatch pe caracterul 'd'** am fi putut sari direct la pozitia 3.\n",
        "\n",
        "De ce avem nevoie pentru a putea face acest salt?\n",
        "\n",
        "Uitandu-ne la string-ul **pattern**, vedem ca, in cazul unui mismatch $pattern[j] \\neq text[i]$, noi putem continua cu $j = 0$, cu $i$ neschimbat, deoarece daca am ajuns la pozitia j in sirul B, atunci $B[0] = A[i - j], B[1] = A[i - j + 1] ... B[j - 1] = A[i - 1]$. Acum, de ce nu inaintam, ca in algoritmul brut, si nu comparam $B[0]$ cu $A[i - j + 1], A[i - j + 2],...,A[i]$ ? Pentru ca, uitandu-ne la B, vedem ca $B[0]$ nu apare de doua ori in B si $B[0] = A[i - j], B[1] = A[i - j + 1] ... B[j - 1] = A[i - 1]$.\n",
        "\n",
        "Generalizand, noi avem nevoie de o tabela T care sa ne spuna, daca s-a facut mismatch pe pozita j in B, continuam de la pozitia $T[j]$ in B si inaintam sau nu in A.\n",
        "\n"
      ]
    },
    {
      "cell_type": "code",
      "metadata": {
        "id": "C74vK9OZEmKG",
        "colab_type": "code",
        "outputId": "8aa2ea72-30a4-46a6-eed4-a7ca2b0d3430",
        "colab": {}
      },
      "source": [
        "def construct_table(pattern):\n",
        "    ## T e tabelul de care ne spune unde sa ne mutam la un mismatch\n",
        "    T = [0] * (len(pattern) + 1)\n",
        "    T[0] = -1\n",
        "    indx = 0  # indx este indexul caracterului la care trebuie sa ne ducem in B pentru o noua incercare\n",
        "    for i in range(1, len(b)):\n",
        "        \"\"\"\n",
        "         daca pattern[i] si pattern[indx] sunt egale inseamna ca pentru un\n",
        "         mismatch la i reactionam la fel ca pentru un mismatch la indx\n",
        "        \"\"\"\n",
        "        if b[i] == b[indx]: \n",
        "            T[i] = T[indx]\n",
        "        else:\n",
        "            T[i] = indx  # pentru un mismatch la b[i] ne vom duce la indx\n",
        "            indx = T[indx]\n",
        "            while indx >= 0 and b[i] != b[indx]: # cautam noua pozitie\n",
        "                indx = T[indx]\n",
        "        indx += 1\n",
        "    T[len(b)] = indx # Remember: T[len(b)] == T[-1]\n",
        "    return T\n",
        "\n",
        "def is_substring_improved(a, b):\n",
        "    T = construct_table(b)\n",
        "    i = 0\n",
        "    j = 0\n",
        "    while i < len(a):\n",
        "        if b[j] == a[i]:\n",
        "            j += 1\n",
        "            i += 1\n",
        "            if j == len(b):\n",
        "                return True\n",
        "        else:\n",
        "            j = T[j]\n",
        "            if j < 0:\n",
        "                j += 1\n",
        "                i += 1\n",
        "    return False\n",
        "                \n",
        "print(is_substring_improved(\"scaunmasamasina\", \"scaun\"))\n",
        "        \n",
        "    \n",
        "    "
      ],
      "execution_count": 0,
      "outputs": [
        {
          "output_type": "stream",
          "text": [
            "True\n"
          ],
          "name": "stdout"
        }
      ]
    },
    {
      "cell_type": "markdown",
      "metadata": {
        "id": "fHoh2g-1EmKL",
        "colab_type": "text"
      },
      "source": [
        "## Partea 3: De la tabela la automat\n",
        "\n",
        "Tabela de mai devreme poate fi vazuta ca un automat. Un automat este o ......"
      ]
    },
    {
      "cell_type": "code",
      "metadata": {
        "id": "2ju1JZPkEmKM",
        "colab_type": "code",
        "colab": {}
      },
      "source": [
        ""
      ],
      "execution_count": 0,
      "outputs": []
    }
  ]
}