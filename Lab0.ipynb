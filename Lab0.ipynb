{
  "nbformat": 4,
  "nbformat_minor": 0,
  "metadata": {
    "colab": {
      "name": "Lab0.ipynb",
      "version": "0.3.2",
      "provenance": [],
      "collapsed_sections": []
    },
    "kernelspec": {
      "name": "python3",
      "display_name": "Python 3"
    },
    "accelerator": "GPU"
  },
  "cells": [
    {
      "cell_type": "markdown",
      "metadata": {
        "id": "PzLMBT2eMlQm",
        "colab_type": "text"
      },
      "source": [
        "#Laborator 0: Introducere in Jupyter Notebook si Python\n",
        "\n",
        "##Curs: Limbaje formale si automate\n",
        "\n",
        "##Autor: Cebere Tudor"
      ]
    },
    {
      "cell_type": "markdown",
      "metadata": {
        "id": "LUZLTRvne4Zs",
        "colab_type": "text"
      },
      "source": [
        "#Partea 0: Jupyter Notebook\n",
        "\n",
        "Jupyter Notebook este un tool open source pentru crearea si distribuirea documentelor care contin cod si sectiuni de text. Text-ul si portiunile de cod sunt puse in celule diferite, fiecare modificare dintr-o celula devenind vizibila interpretarilor ulterioare prin rulare. Fiecare celula isi retine ultima stare cu care a fost rulata, inclusiv valoarea la care au fost evaluate variabilele. O parte din lucrurile utile in Jupyter Notebooks sunt:\n",
        "\n",
        "\n",
        "*   ! - rularea unei comenzi intr-un CLI in working path-ul curent. eg: !ls\n",
        "*   %% HTML - randeaza HTML intr-un cell de notebook.\n",
        "*   %matplotlib inline - randeaza o imagine server side si returneaza plotting-ul.\n",
        "*   Latex rendering: $P(A \\mid B) = \\frac{P(B \\mid A)P(A)}{P(B)}$\n",
        "*   Autocomplete cu Ctrl+Space in linia curenta\n",
        "*   Explicarea parametrilor la autocomplete cu Ctrl+Shift+Space\n"
      ]
    },
    {
      "cell_type": "code",
      "metadata": {
        "id": "PJhW73l4fkwT",
        "colab_type": "code",
        "colab": {}
      },
      "source": [
        "!echo \"Ain't this cool?\" > jupyter_tricks.txt\n",
        "!ls\n",
        "!cat jupyter_tricks.txt\n",
        "!rm jupyter_tricks.txt"
      ],
      "execution_count": 0,
      "outputs": []
    },
    {
      "cell_type": "code",
      "metadata": {
        "id": "ZehYA4pxjdN_",
        "colab_type": "code",
        "colab": {}
      },
      "source": [
        "%%HTML \n",
        "<img src=\"https://i.pinimg.com/originals/37/f8/ed/37f8ed7686f5342ed76ef3df09e602d9.png\" style=\"height:300px\">"
      ],
      "execution_count": 0,
      "outputs": []
    },
    {
      "cell_type": "markdown",
      "metadata": {
        "id": "nVuOwacipN23",
        "colab_type": "text"
      },
      "source": [
        "#Partea 1: Introducere in limbajul Python\n",
        "\n",
        "Python este un limbaj interpretat, high-level, tipat slab. Tipurile variabilelor sunt deduse\n",
        "la runtime, oferind un nivel mare de libertate, dar si de greseli. In sectiunea de Bonus prezentam cum putem da hint-uri interpretorului despre tipul anumitor variabile pentru a face codul mai lizibil si a mai reduce din bug-urile produse de lipsa tiparii.\n",
        "\n",
        "Mai jos vom prezenta un set minimal de functionalitati din Python pentru a va acomoda cu limbajul.\n",
        "\n"
      ]
    },
    {
      "cell_type": "markdown",
      "metadata": {
        "id": "alLqv8Z2UbbU",
        "colab_type": "text"
      },
      "source": [
        "## Partea 1.1: Scoping\n",
        "Scoping-ul in Python este determinat de identare, nu de acolade ca in C/Java.\n",
        "\n",
        "**Identarea trebuie facuta consecvent, cu tab-uri/spatii**, amestecarea lor va crea\n",
        "eroare la runtime. (cred ca aici suna mai bine sa zicem analiza lexicala/parsing desi nu stiu cum sa le formulam sa sune bine - runtime inseamna ca programul \"ruleaza\" insa indentarea e data inainte de rulare)"
      ]
    },
    {
      "cell_type": "code",
      "metadata": {
        "id": "3ClInHy1sUL5",
        "colab_type": "code",
        "colab": {}
      },
      "source": [
        "a = 9\n",
        "\n",
        "# in Python, pentru a defini un scope, in loc de acolade folosim tab-uri/spatii.\n",
        "\n",
        "if a == 10:\n",
        "  #acesta este scope-ul cazului True din if.\n",
        "  print(\"a is indeed \", 10)\n",
        "else:\n",
        "  #acesta este scope-ul cazului False din if\n",
        "  print(\"Nope, a este \", a)\n",
        "  #pentru a trece la un nivel de imbricare inferior, folosim un tab in minus\n",
        "\n",
        "#in momentul in care am scazult nivelul imbricarii, am incheiat un scope\n",
        "print(\"Scope-ul cazurilor din if s-a terminat\")"
      ],
      "execution_count": 0,
      "outputs": []
    },
    {
      "cell_type": "markdown",
      "metadata": {
        "id": "7DHAmoB9U7d3",
        "colab_type": "text"
      },
      "source": [
        "## Partea 1.2: Functii\n",
        "Functiile in python sunt definite prin keyword-ul `def` urmat de numele functiei si parametri.\n",
        "\n",
        "In python o functie poate intoarce unul sau mai multi parametri, interpretorul impachetand variabilele returnate intr-un tuplu.\n",
        "\n",
        "\n",
        "Python are suport si pentru functii lambda, fiind utile cand scriem functii de dimensiuni mici si locale unei alte functii (nu se polueaza nici namespace-ul programului) - trebuie sa scriem criterii de sortare\n"
      ]
    },
    {
      "cell_type": "code",
      "metadata": {
        "id": "Abafj0AuNcsh",
        "colab_type": "code",
        "colab": {}
      },
      "source": [
        "#definirea unei functii in Python\n",
        "def func():\n",
        "  return \"func called\"\n",
        "\n",
        "return_value = func()\n",
        "\n",
        "print(return_value)\n",
        "print(func())"
      ],
      "execution_count": 0,
      "outputs": []
    },
    {
      "cell_type": "code",
      "metadata": {
        "id": "_hjqGLeKZqTM",
        "colab_type": "code",
        "colab": {}
      },
      "source": [
        "#demonstram scoping-ul cu ajutorul functiilor\n",
        "global_variable = 10\n",
        "\n",
        "def first_func():\n",
        "  print(\"First_func can see the global_variable:\", global_variable)\n",
        "\n",
        "def second_func():\n",
        "  local_variable = 5\n",
        "  print(\"Second_func can see the the global_variable\", global_variable)\n",
        "  print(\"Second can see the local_variable\", local_variable)\n",
        "\n",
        "def third_func():\n",
        "  global_variable = 6\n",
        "  print(\"Third_func changed (or not?) the global variable\", global_variable)\n",
        "\n",
        "def forth_func():\n",
        "  global global_variable\n",
        "  global_variable = 6\n",
        "  print(\"Third_func **really** changed the global variable\", global_variable)\n",
        "\n",
        "\n",
        "first_func()\n",
        "second_func()\n",
        "third_func()\n",
        "first_func()\n",
        "forth_func()\n",
        "first_func()"
      ],
      "execution_count": 0,
      "outputs": []
    },
    {
      "cell_type": "code",
      "metadata": {
        "id": "efsmG5i8aQlS",
        "colab_type": "code",
        "colab": {}
      },
      "source": [
        "#urmatorul comportament apare cand incercam sa accesam o variabila care nu este\n",
        "#este vibizila in scop-ul curent.\n",
        "print(local_variable)"
      ],
      "execution_count": 0,
      "outputs": []
    },
    {
      "cell_type": "code",
      "metadata": {
        "id": "yLrar8lbV1TE",
        "colab_type": "code",
        "colab": {}
      },
      "source": [
        "#exemplu de functie care returneaza mai multe valori\n",
        "def multiple_returns_function():\n",
        "  return \"first_return_val\", \"second_return_val\", \"third_return_val\"\n",
        "\n",
        "#putem desfasura in forma initiala\n",
        "first, second, third = multiple_returns_function()\n",
        "print(first_return_val)\n",
        "print(second_return_val)\n",
        "print(third_return_val)\n",
        "\n",
        "#sau putem pastra forma de tuplu, util cand nu stim numarul\n",
        "#de parametri returnati de catre o functie\n",
        "tuple_of_return_values = multiple_returns_function()\n",
        "print(tuple_of_return_values)"
      ],
      "execution_count": 0,
      "outputs": []
    },
    {
      "cell_type": "code",
      "metadata": {
        "id": "rL2aaFVth3ej",
        "colab_type": "code",
        "colab": {}
      },
      "source": [
        "#definim functia identitate cu ajutorul unei functii lambda, primeste un parametru si il intoarce pe acelasi.\n",
        "lambda_identity = lambda x : x\n",
        "print(\"Lambda identitate: \", lambda_identity(1))\n",
        "\n",
        "#definim functia de insumare a doua numere\n",
        "lambda_sum = lambda x, y: x + y\n",
        "print(\"Lambda suma: \", lambda_sum(1,2))"
      ],
      "execution_count": 0,
      "outputs": []
    },
    {
      "cell_type": "markdown",
      "metadata": {
        "id": "tb1c4QlzWha8",
        "colab_type": "text"
      },
      "source": [
        "##Partea 1.3: Liste\n",
        "Python-ul nu foloseste notiunea de vector ca C/Java, preferand in loc o lista, iar elementele se pot accesa utilizand indecsi.\n",
        "\n",
        "Metode des folosite:\n",
        "\n",
        "* append\n",
        "* insert\n",
        "* remove\n",
        "* pop\n",
        "* reverse\n",
        "\n",
        "Un alt tip de date comun in Python sunt tuplurile, care sunt multimi de cate N elemente imutabile in memorie.\n",
        "\n",
        "Un exemplu imediat ar fi echivalentul lui std::pair din C++.\n",
        "\n",
        "\n",
        "Documentatia completa din standardul de Python cu privire la structurile de date disponibile este [aici](https://docs.python.org/3/tutorial/datastructures.html), iar pentru complexitati [aici](https://wiki.python.org/moin/TimeComplexity)\n"
      ]
    },
    {
      "cell_type": "code",
      "metadata": {
        "id": "oLhSu1ant0jC",
        "colab_type": "code",
        "colab": {}
      },
      "source": [
        "#exemplu de lista in python\n",
        "x = [1, 2, 3, 4]\n",
        "\n",
        "print(\"Lista de intregi:\", x)\n",
        "\n",
        "#fata de Haskell, Python-ul accepta orice elemente intr-o lista, fiind tipat slab.\n",
        "#(listele sunt structuri de date eterogene)\n",
        "y = [\"Lista\", \"simpla\", 5]\n",
        "print(\"Lista cu elemente de diferite tipuri:\", y)\n",
        "\n",
        "#desi este tipat slab, putem observa tipurilor diferitelor elemente la runtime\n",
        "print(type(y)) # George: mie imi arata doar clasa ca fiind lista :("
      ],
      "execution_count": 0,
      "outputs": []
    },
    {
      "cell_type": "code",
      "metadata": {
        "id": "Kz1djUaLxc66",
        "colab_type": "code",
        "colab": {}
      },
      "source": [
        "dummy_list = [\"LFA\", 10, \"PP\", 30]\n",
        "#Parcurgerea unei liste pe baza iteratorilor\n",
        "print(\"Parcurgere lista cu iterator\")\n",
        "for token in dummy_list:\n",
        "    print(token)\n",
        "\n",
        "print(\"Parcurgere lista cu indecsi\")\n",
        "#Parcurgerea unei liste pe baza indexului\n",
        "for i in range(0, len(dummy_list)):\n",
        "    print(dummy_list[i])\n",
        "\n",
        "print(\"Parcurgere lista cu enumerate\")\n",
        "#Parcurgere avand si index si element\n",
        "for i, token in enumerate(dummy_list):\n",
        "    print(i, token)\n",
        "\n",
        "#explicatie:\n",
        "#i - indexul curent\n",
        "#len(y) - lungimea listei\n",
        "#range(0, len(y)) - genereaza pe rand elemente din lista [0 .. len(y) -1]\n",
        "# ia cate un element din lista in ordine si il foloseste ca index"
      ],
      "execution_count": 0,
      "outputs": []
    },
    {
      "cell_type": "code",
      "metadata": {
        "id": "ASgZOOhnxsG6",
        "colab_type": "code",
        "colab": {}
      },
      "source": [
        "#exemplu de definire a unui tuplu\n",
        "ex_tuple = (\"This\", \"is\", \"immutable\")\n",
        "ex_list = [\"This\", \"is\", \"not\"]\n",
        "\n",
        "# try/except urmareste cazul in care o exceptie (precum cea de modificare a\n",
        "# structurilor imutabile) in scope-ul try-ului sa intre automat sa execute\n",
        "# ramura except.\n",
        "\n",
        "try:\n",
        "  ex_list[0] = 0\n",
        "  print(ex_list)\n",
        "  #nu are loc o exceptie\n",
        "except:\n",
        "  print(\"Eroare la incercarea modificarii unui element in lista\") \n",
        "\n",
        "try:\n",
        "  #urmatoarea operatie va ridica o exceptie\n",
        "  ex_tuple[0] = 0\n",
        "  print(ex_tuple)\n",
        "except:\n",
        "  print(\"Eroare la incercarea modificarii unui element in tuplu\")\n",
        "\n",
        "#Listele sunt mutabile in memorie, tuplurile nu."
      ],
      "execution_count": 0,
      "outputs": []
    },
    {
      "cell_type": "code",
      "metadata": {
        "id": "pN-6JOHi1--X",
        "colab_type": "code",
        "colab": {}
      },
      "source": [
        "#exemple de utilizare a metodelor asociate structurilor\n",
        "dummy_list = [3, 6, 9]\n",
        "\n",
        "#adaugam la sfarsitul listei numarul 10\n",
        "dummy_list.append(10)\n",
        "print(dummy_list)\n",
        "\n",
        "#adaugam la sfarsitul listei numarul 20\n",
        "dummy_list.append(20)\n",
        "print(dummy_list)\n",
        "\n",
        "#stergem aparitia numarului 10\n",
        "dummy_list.remove(10)\n",
        "print(dummy_list)"
      ],
      "execution_count": 0,
      "outputs": []
    },
    {
      "cell_type": "code",
      "metadata": {
        "id": "E_xXTio21_Eo",
        "colab_type": "code",
        "colab": {}
      },
      "source": [
        "#sortam descrescator lista\n",
        "dummy_list.sort(reverse=True)\n",
        "print(\"Lista sortata descrescator (sort):\", dummy_list)\n",
        "\n",
        "#operatie echivalenta cu\n",
        "reversed_sorted_list = list(reversed(sorted(dummy_list)))\n",
        "print(\"Lista sortata descrescator (sorted):\", reversed_sorted_list)\n",
        "\n",
        "dummy_list.sort(key=lambda x : x)\n",
        "print(\"Lista sortata crescator cu functie lambda:\", dummy_list)\n",
        "\n",
        "dummy_list.sort(key=lambda x : -x)\n",
        "print(\"Lista sortata descrescator cu functie lambda:\", dummy_list)\n",
        "\n",
        "#sortam o lista dupa aritmetica modulo 6\n",
        "dummy_list.sort(key=lambda x : x % 6)\n",
        "print(\"Lista sortata dupa restul impartirii la 6:\", dummy_list)\n",
        "\n",
        "#diferenta intre list.sort si sorted este ca sort face modificarile in place,\n",
        "#iar sorted intoarce o referinta catre o lista noua\n",
        "#Sorted se poate aplica pe orice obiect iterabil.\n",
        "new_ref = sorted(dummy_list)\n",
        "\n",
        "#Id este o functie builtin Python care ofera un identificator unic pentru fiecare\n",
        "#obiect creat\n",
        "print(\"Id(new_ref) == id(new_ref)?:\", id(new_ref) == id(dummy_list))\n"
      ],
      "execution_count": 0,
      "outputs": []
    },
    {
      "cell_type": "code",
      "metadata": {
        "id": "EHD3w8_H1_MI",
        "colab_type": "code",
        "colab": {}
      },
      "source": [
        "#listele in python suporta indexare negativa, care presupune indexarea de la\n",
        "#sfarsit spre inceput, list[-1] va returna ultimul element dintr-o lista\n",
        "ref = [1, 2, 3, 4, 5, 6]\n",
        "print(\"Ultimul element din lista:\", ref[-1])\n",
        "\n",
        "#in Python putem crea subliste (sintaxa asemanatoare cu cea din Matlab), prin\n",
        "#care putem preciza intre ce indecsi dorim o sublista\n",
        "little_slice = ref[1:3]\n",
        "print(\"Slice folosind [1:3]:\", little_slice)\n",
        "\n",
        "#dorim sublista facuta de toate elementele dintre al 2-lea element inclusiv si\n",
        "#al 3-lea element de la sfarsit exclusiv\n",
        "negative_slice = ref[2:-3]\n",
        "print(\"Slice folosind [2:-3]:\", negative_slice)\n",
        "\n",
        "#al 3-lea parametru il putem folosi pentru a decide cum iteram prin lista.\n",
        "normal_list = ref[::1]\n",
        "print(\"Lista folosind pas de 1:\", normal_list)\n",
        "\n",
        "reversed_string = ref[::-1]\n",
        "print(\"Lista inversata: \", reversed_string)\n",
        "\n",
        "normal2_list = ref[::2]\n",
        "print(\"Lista folosind pas de 2:\", normal2_list)\n",
        "\n",
        "#un mecanism simplu si intuitiv de creat liste\n",
        "#list comprehension (Remember from Haskell?)\n",
        "# ** ridica un numar la o putere\n",
        "l = [x ** 2 for x in range(10)]\n",
        "print(\"List comprehension, primele 10 numere naturale la patrat:\", l)"
      ],
      "execution_count": 0,
      "outputs": []
    },
    {
      "cell_type": "code",
      "metadata": {
        "id": "Fklog7YL1-yb",
        "colab_type": "code",
        "colab": {}
      },
      "source": [
        "#Optional\n",
        "#In python avem si notiunea de lista infinita, sub numele de generator, mai multe\n",
        "#detalii despre implementarea lor gasiti aici: https://realpython.com/introduction-to-python-generators/\n",
        "\n",
        "print(\"Generare numere folosind range\")\n",
        "number_generator = range(10)\n",
        "number_generator_it = iter(number_generator)\n",
        "\n",
        "print(number_generator_it)\n",
        "\n",
        "print(next(number_generator_it))\n",
        "print(next(number_generator_it))\n",
        "\n",
        "\n",
        "# Interschimbare numere - folosind unpacking\n",
        "print(\"\\nUnpacking exemple\")\n",
        "\n",
        "print(\"Interschimbare de elemente\")\n",
        "a = 10\n",
        "b = 5\n",
        "print(\"a = \", a)\n",
        "print(\"b = \", b)\n",
        "\n",
        "a, b = b, a\n",
        "print(\"a = \", a)\n",
        "print(\"b = \", b)\n",
        "\n",
        "print(\"\\nUnpacking \")\n",
        "a, *b, c = [1, 2, 3, 4, 5]\n",
        "print(\"a = \", a)\n",
        "print(\"b = \", b)\n",
        "print(\"c = \", c)\n",
        "\n",
        "print(\"\\nUnpacking ignorand elemente lista\")\n",
        "a, _ = [1, 2]\n",
        "print(\"a = \", a)\n",
        "\n",
        "b, *_ = [1, 2, 3, 4]\n",
        "print(\"b = \", b)\n",
        "\n",
        "#Unpacking-ul poate fi folosit si pentru a trimite liste ca argumente functiilor\n",
        "#care au mai multi parametri\n",
        "print(\"\\nUnpacking la apelarea functiei unei functii folosind lista/tuplu\")\n",
        "def f(a, b, c):\n",
        "  print(\"a = \", a)\n",
        "  print(\"b = \", b)\n",
        "  print(\"c = \", c)\n",
        "\n",
        "l = [1, 2, 3]\n",
        "f(*l)\n",
        "\n",
        "t = (1, 2, 3)\n",
        "f(*t)\n",
        "\n",
        "# De asemenea, se pot trimite argumente la functii folosind un dictionar\n",
        "print(\"\\nUnpacking la apelarea unei functii folosind dictionar\")\n",
        "d = {'a': 1, 'b': 5, 'c': 42}\n",
        "f(**d)\n"
      ],
      "execution_count": 0,
      "outputs": []
    },
    {
      "cell_type": "markdown",
      "metadata": {
        "id": "J8-YzodXXldz",
        "colab_type": "text"
      },
      "source": [
        "## Partea 1.4: Strings\n",
        "String-urile in Python sunt o structura de data imutabile care pot fi definite folosind apostrof sau ghilimele."
      ]
    },
    {
      "cell_type": "code",
      "metadata": {
        "id": "gcIMNFC91Cl-",
        "colab_type": "code",
        "colab": {}
      },
      "source": [
        "single_quote_string = 'this is a single quote string'\n",
        "print(\"String cu apostrof:\", single_quote_string)\n",
        "\n",
        "double_quote_string = \"this a double quote string\"\n",
        "print(\"String cu ghilimele:\", double_quote_string)\n",
        "\n",
        "\n",
        "#definirea unui string in Python pe mai multe linii\n",
        "pokemon_intro = (\"I wanna be the very best \\n \"\n",
        "                 \"Like no one ever was \\n \"\n",
        "                 \"To catch them is my real test \\n \"\n",
        "                 \"To train them is my cause\")\n",
        "print(\"\\nString pe mai multe randuri\")\n",
        "print(pokemon_intro)\n",
        "\n",
        "#putem sparge un string in substring-uri cu ajutorul metodei split, cu care\n",
        "#putem sparge un string dupa un anumit caracter\n",
        "lyrics = pokemon_intro.split(\"\\n\")\n",
        "print(\"\\nVersuri\")\n",
        "print(lyrics)\n",
        "\n",
        "print(\"\\nLista de cuvinte\")\n",
        "words = pokemon_intro.split(\" \")\n",
        "print(words)\n",
        "\n",
        "#observam ca avem string-ul \"\\n\" in lista de cuvinte, dorim sa\n",
        "#scapam de acest comportament\n",
        "\n",
        "print(\"\\nSolutia 1\")\n",
        "#iteram prin rezultat si nu adaugam la lista newline-urile\n",
        "words_clean1 = []\n",
        "for word in words:\n",
        "  if word != \"\\n\":\n",
        "    words_clean1.append(word)\n",
        "\n",
        "print(words_clean1)\n",
        "\n",
        "print(\"\\nSolutia 2\")\n",
        "#folosim metoda replace pe string-ul original\n",
        "#metoda intoarce noul string, fara a modifica string-ul original\n",
        "#se inlocuieste \"\\n\" cu nimic \"\"\n",
        "words_clean2 = pokemon_intro.replace(\"\\n\", \"\")\n",
        "print(words_clean2.split())\n",
        "\n",
        "print(\"\\nSolutia 3\")\n",
        "#Folosim functionala filter care primeste o lista si o functie booleana si va\n",
        "#pastra in lista rezultata valorile din lista pentru care functia se evalueaza\n",
        "#la True\n",
        "words_clean3 = list(filter(lambda x: x != \"\\n\", words))\n",
        "print(words_clean3)\n",
        "\n",
        "#cautam aparitia unui string intr-un alt string\n",
        "print(\"\\n'Pikachu' in intro:\", \"Pikachu\" in pokemon_intro)\n",
        "print(\"\\n'train' in intro:\", \"train\" in pokemon_intro)\n",
        "\n",
        "#concatenarea a mai multor stringuri\n",
        "concat = \"This\" + \" \" + \"is\" + \" \" + \"concatenation\"\n",
        "print(\"\\nConcatenare string-uri:\", concat)\n",
        "\n",
        "#concatenarea functioneaza la fel si pentru liste\n",
        "concat_on_lists = [1, 2] + [3, 4] + [5, 6]\n",
        "print(\"\\nConcatenare liste:\", concat_on_lists)\n",
        "\n",
        "#join va concatena toate string-urile dintr-o lista folosind ca string intermediar\n",
        "#string-ul pe care facem join.\n",
        "different_format = \"_\".join(words)\n",
        "print(\"\\nJoin\")\n",
        "print(different_format)"
      ],
      "execution_count": 0,
      "outputs": []
    },
    {
      "cell_type": "markdown",
      "metadata": {
        "id": "Koh6V7KKXwnr",
        "colab_type": "text"
      },
      "source": [
        "#Partea 1.5: Dictionare"
      ]
    },
    {
      "cell_type": "code",
      "metadata": {
        "id": "vgxrFPv21TjD",
        "colab_type": "code",
        "colab": {}
      },
      "source": [
        "#dictionarele sunt alta structura de date comuna in Python\n",
        "#dictionarele default sunt neordonate, echivalente cu std::unordered_map din C++\n",
        "\n",
        "string_valued_dict_1 = {0 : \"cool\", 1 : \"opensource\", 2 : \"data\"}\n",
        "print(string_valued_dict_1[0])\n",
        "print(string_valued_dict_1[1])\n",
        "print(string_valued_dict_1[2])\n",
        "print() # se poate folosi doar print pentru inserare newline\n",
        "\n",
        "string_valued_dict_2 = {\"index_1\" : \"cool\", \"index_2\" : \"opensource\", \"index_3\" : \"data\"}\n",
        "print(string_valued_dict_2[\"index_1\"])\n",
        "print(string_valued_dict_2[\"index_2\"])\n",
        "print(string_valued_dict_2[\"index_3\"])\n",
        "print()\n",
        "\n",
        "cool_guys_and_where_to_find_them = {\"Turing\" : \"Alan\",\n",
        "                                    \"Church\" : \"Alonzo\", \n",
        "                                    \"materii\": [\"PP\", \"AA\", \"LFA\"]}\n",
        "\n",
        "for k,v in cool_guys_and_where_to_find_them.items():\n",
        "  print(k + \": \" + str(v))\n",
        "print()\n",
        "\n",
        "dict_tuples = dict([(\"A\", \"a\"), (\"B\", \"b\"), (\"C\", \"c\")])\n",
        "print(dict_tuples)"
      ],
      "execution_count": 0,
      "outputs": []
    },
    {
      "cell_type": "code",
      "metadata": {
        "id": "M3Y9oQ2l50JP",
        "colab_type": "code",
        "colab": {}
      },
      "source": [
        "#pentru a importa biblioteci/fisiere, folosim keyword-ul import.\n",
        "import os\n",
        "\n",
        "print(os.getcwd())"
      ],
      "execution_count": 0,
      "outputs": []
    },
    {
      "cell_type": "markdown",
      "metadata": {
        "id": "9mMehXweHmHy",
        "colab_type": "text"
      },
      "source": [
        "#Partea a II-a: Exercitii"
      ]
    },
    {
      "cell_type": "markdown",
      "metadata": {
        "id": "uLqE5j_55ubx",
        "colab_type": "text"
      },
      "source": [
        "#Queue: \n",
        "Fara a folosi keyword-ul \"import\", implementati comportamentul unui queue folosind listele din python."
      ]
    },
    {
      "cell_type": "code",
      "metadata": {
        "id": "xulqFApJ5Nil",
        "colab_type": "code",
        "colab": {}
      },
      "source": [
        "def pop(queue):\n",
        "  return None\n",
        "\n",
        "def push(queue):\n",
        "  return None\n",
        "\n",
        "def len(queue):\n",
        "  return None  "
      ],
      "execution_count": 0,
      "outputs": []
    },
    {
      "cell_type": "code",
      "metadata": {
        "id": "9YNJLmLI-G6l",
        "colab_type": "code",
        "colab": {}
      },
      "source": [
        "#Teste"
      ],
      "execution_count": 0,
      "outputs": []
    },
    {
      "cell_type": "markdown",
      "metadata": {
        "id": "pCBqvoWg5P8-",
        "colab_type": "text"
      },
      "source": [
        "#Random String generator:\n",
        "Completati functia \"random_gen\", care primeste 2 parametri x si y, care returneaza x string-uri random de lungime y.\n",
        "\n",
        "Hint:\n",
        "Ca random generator, cititi documentatia pentru modulul random\n",
        "https://docs.python.org/3/library/random.html"
      ]
    },
    {
      "cell_type": "code",
      "metadata": {
        "id": "_AAh_Q955Otl",
        "colab_type": "code",
        "colab": {}
      },
      "source": [
        "import random\n",
        "\n",
        "def random_gen(x, y):\n",
        "  \"\"\"\n",
        "      Functie de generare a x string-uri random de lungime y.\n",
        "      :param x: Numarul de string-uri.\n",
        "      :param y: Lungimea unui string.\n",
        "      :return: Lista ce contine cele x string-uri de lungime y.\n",
        "  \"\"\"\n",
        "  ###your code goes here\n",
        "  return None"
      ],
      "execution_count": 0,
      "outputs": []
    },
    {
      "cell_type": "code",
      "metadata": {
        "id": "0z3J_n_E78My",
        "colab_type": "code",
        "colab": {}
      },
      "source": [
        "#Teste"
      ],
      "execution_count": 0,
      "outputs": []
    },
    {
      "cell_type": "markdown",
      "metadata": {
        "id": "xq4Ol3DN-L7o",
        "colab_type": "text"
      },
      "source": [
        "#Tic-Tac-Toe:\n",
        "\n",
        "Primind ca input o matrice de 3x3, spuneti daca exista un jucator castigator in cadrul jocului Tic-Tac-Toe.\n",
        "\n",
        "* Jucatorul 0 va juca cu \"x\" sau \"X\".\n",
        "\n",
        "* Jucatorul 1 va juca cu \"o\" sau \"O\".\n",
        "\n",
        "* Spatiul gol va fi reprezentat de \"_\".\n",
        "\n",
        "* Jocul se termina cand unul din jucatori reuseste sa obtina o linie, coloana sau diagonala cu simbolul asociat lui.\n",
        "\n",
        "* Functia trebuie sa returneze indexul jucatorului care a castigat, daca nimeni nu a castigat, trebuie sa intoarca None."
      ]
    },
    {
      "cell_type": "code",
      "metadata": {
        "id": "pmKFBPjo5RyL",
        "colab_type": "code",
        "colab": {}
      },
      "source": [
        "def tic_tac_toe_result(game_state):\n",
        "  \"\"\"\n",
        "    Functie care stabileste daca cineva a castigat intr-o configuratie oarecare de Tic-Tac-Toe.\n",
        "    :param game_state: o lista de lista (o matrice), care descrie state-ul curent.\n",
        "    #return: 1 daca a castigat jucatorul 1, 0 daca a castigat jucatorul 0, None daca nu a casigat nimeni\n",
        "  \"\"\"\n",
        "  return None"
      ],
      "execution_count": 0,
      "outputs": []
    },
    {
      "cell_type": "markdown",
      "metadata": {
        "id": "_qB5mvP-voaF",
        "colab_type": "text"
      },
      "source": [
        "# Bonus: Bigrame\n",
        "Primind doua cuvinte *str1* si *str2* si un text format din cuvinte separate prin spatiu, algoritmul trebuie sa returneze toate aparitiile lui str3 din pattern-urile de forma *str1 str2 str3* din text, unde *str3* este urmatorul cuvant dupa aparitia cuvintelor *str1* si *str2*.\n",
        "\n",
        "Exemplu:\n",
        "\n",
        "text = \"we will we will rock you\"\n",
        "\n",
        "str1 = \"we\"\n",
        "\n",
        "str2 = \"will\"\n",
        "\n",
        "Output: [\"we\", \"you\"]"
      ]
    },
    {
      "cell_type": "code",
      "metadata": {
        "id": "Bx9V12pMASPd",
        "colab_type": "code",
        "colab": {}
      },
      "source": [
        "#Teste"
      ],
      "execution_count": 0,
      "outputs": []
    }
  ]
}